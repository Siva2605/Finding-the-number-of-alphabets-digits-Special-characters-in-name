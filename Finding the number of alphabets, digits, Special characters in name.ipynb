{
 "cells": [
  {
   "cell_type": "markdown",
   "id": "a879d53e",
   "metadata": {},
   "source": [
    "# My Jupyter Notebook on IBM Watson Studio"
   ]
  },
  {
   "cell_type": "markdown",
   "id": "d51aeac7",
   "metadata": {},
   "source": [
    "<b>Siva Selvendiran"
   ]
  },
  {
   "cell_type": "markdown",
   "id": "92a9861c",
   "metadata": {},
   "source": [
    "*I am intrested in Data science because of its challenges and problem solving*"
   ]
  },
  {
   "cell_type": "markdown",
   "id": "113901b2",
   "metadata": {},
   "source": [
    "## Finding the number of alphabets, digits, Special characters in name"
   ]
  },
  {
   "cell_type": "code",
   "execution_count": 2,
   "id": "270213b7",
   "metadata": {},
   "outputs": [
    {
     "name": "stdout",
     "output_type": "stream",
     "text": [
      "Please Enter your Own String : ksdhq90u9@sdfj\n",
      "\n",
      "Total Number of Alphabets in this String :   10\n",
      "Total Number of Digits in this String :   3\n",
      "Total Number of Special Characters in this String :   1\n"
     ]
    }
   ],
   "source": [
    "string = input(\"Please Enter your Own String : \")\n",
    "alphabets = digits = special = 0\n",
    "\n",
    "for i in range(len(string)):\n",
    "    if(string[i].isalpha()):\n",
    "        alphabets = alphabets + 1\n",
    "    elif(string[i].isdigit()):\n",
    "        digits = digits + 1\n",
    "    else:\n",
    "        special = special + 1\n",
    "        \n",
    "print(\"\\nTotal Number of Alphabets in this String :  \", alphabets)\n",
    "print(\"Total Number of Digits in this String :  \", digits)\n",
    "print(\"Total Number of Special Characters in this String :  \", special)"
   ]
  },
  {
   "cell_type": "code",
   "execution_count": null,
   "id": "ced79418",
   "metadata": {},
   "outputs": [],
   "source": []
  }
 ],
 "metadata": {
  "kernelspec": {
   "display_name": "Python 3 (ipykernel)",
   "language": "python",
   "name": "python3"
  },
  "language_info": {
   "codemirror_mode": {
    "name": "ipython",
    "version": 3
   },
   "file_extension": ".py",
   "mimetype": "text/x-python",
   "name": "python",
   "nbconvert_exporter": "python",
   "pygments_lexer": "ipython3",
   "version": "3.9.13"
  }
 },
 "nbformat": 4,
 "nbformat_minor": 5
}
